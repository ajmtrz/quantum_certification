{
 "cells": [
  {
   "cell_type": "markdown",
   "metadata": {},
   "source": [
    "Video explicativo [https://youtu.be/vQf35U5exNM?si=2K7GdXsK3_yP9-21]"
   ]
  },
  {
   "cell_type": "markdown",
   "metadata": {
    "id": "kPVPQMk5n6da"
   },
   "source": [
    "# Tema 6: Algoritmo de Shor"
   ]
  },
  {
   "cell_type": "markdown",
   "metadata": {
    "id": "3QsMCYnRPM1T"
   },
   "source": [
    "Curso IAC02.\n",
    "\n",
    "Autor: Alejandro Mata Ali"
   ]
  },
  {
   "cell_type": "markdown",
   "metadata": {
    "id": "J_5BxrOUn-H4"
   },
   "source": [
    "En este notebook vamos a implementar las funciones necesarias para realizar un algoritmo de Shor. Será enfocado en la parte clásica, tanto para preparar el circuito cuántico como para procesar la salida del mismo."
   ]
  },
  {
   "cell_type": "markdown",
   "metadata": {
    "id": "UGpt-OqY7nTp"
   },
   "source": [
    "Una explicación del algoritmo de Shor: https://hmong.es/wiki/Shor%27s_algorithm"
   ]
  },
  {
   "cell_type": "markdown",
   "metadata": {
    "id": "RKprNHvHoFnA"
   },
   "source": [
    "## Librerías"
   ]
  },
  {
   "cell_type": "code",
   "execution_count": null,
   "metadata": {
    "id": "AcDM5hFJCy6J"
   },
   "outputs": [],
   "source": [
    "import numpy as np"
   ]
  },
  {
   "cell_type": "markdown",
   "metadata": {
    "id": "0UUigPJY743H"
   },
   "source": [
    "---\n",
    "#Algoritmo general"
   ]
  },
  {
   "cell_type": "markdown",
   "metadata": {
    "id": "djlvXlkx71rP"
   },
   "source": [
    "\n",
    "El algoritmo de Shor es un algoritmo que permite factorizar el número $N =p \\cdot q$ en los números primos $p$ y $q$ en un tiempo polinómico mediante técnicas de computación cuántica.\n",
    "\n",
    "El algoritmo procede de la siguiente manera:\n",
    "\n",
    "### **Parte clásica**\n",
    "\n",
    "* Elegir un número aleatorio $a$ entre $2$ y $N-1$.\n",
    "* Calcular $mcd(a, N)$ (máximo común divisor).\n",
    "Si $mcd(a, N) \\neq 1$, este número es un factor no trivial de $N$ y hemos acabado.\n",
    "* Si $mcd(a, N) = 1$, usamos la parte cuántica para encontrar r, el período de la función:\n",
    "$f(x)=a^{x}{\\bmod {N}}$.\n",
    "* Este r es el entero positivo más pequeño r para el cual $f(x+r)=f(x)$.\n",
    "* Si r es impar, volvemos al paso 1 (porque necesitamos su mitad).\n",
    "* Si $a^{r/2} = -1({\\bmod {N}})$, volvemos al paso 1.\n",
    "Sino, ambos $mcd(a^{r/2}+1,N)$ y $mcd(a^{r/2}-1,N)$ son factores no triviales de N, los primos que queremos.\n",
    "\n",
    "### **Parte Cuántica**\n",
    "Hay 2 posibilidades que estudiaremos más adelante, pero conceptualmente se basa en estudiar los autovalores del operador $U_a$ que nos convierte $|x\\rangle$ en $|(a\\cdot x)mod(N)\\rangle$. Este operador unitario introduce una fase en dichos estados, la cual podemos medir con métodos de quantum phase estimation y nos permite obtener la periodicidad de la función $f(y)=a^{y}{\\bmod {N}}$.\n",
    "\n",
    "La idea reside en que vamos a calcular con una superposición de estados que entrelazaremos con el autoestado.\n",
    "\n",
    "Como vamos a estudiar $f(y)=a^{y}{\\bmod {N}}$, haremos que el estado de entrada sea $|1\\rangle$, ya que es el autoestado de este operador."
   ]
  },
  {
   "cell_type": "markdown",
   "metadata": {
    "id": "mDx4rv_w7xiQ"
   },
   "source": [
    "---\n",
    "# Funciones de la parte clásica"
   ]
  },
  {
   "cell_type": "markdown",
   "metadata": {
    "id": "x_9b5p2ACVB-"
   },
   "source": [
    "\n",
    "## Crea binario"
   ]
  },
  {
   "cell_type": "markdown",
   "metadata": {
    "id": "bWnboARUFB_K"
   },
   "source": [
    "Función que crea el binario de un número con el número necesario de bits"
   ]
  },
  {
   "cell_type": "code",
   "execution_count": null,
   "metadata": {
    "id": "5GMqt7y1CWeQ"
   },
   "outputs": [],
   "source": [
    "def numbin(a, n):\n",
    "    '''Funcion que convierte el numero decimal a en uno binario con n bits.\n",
    "\n",
    "    Parametros:\n",
    "    a : entero que queremos pasar a binario.\n",
    "    n : entero del numero de bits que queremos para el binario.\n",
    "    '''\n",
    "    a = bin(a)[2:]         #Pasamos el numero a binario\n",
    "    return '0'*(n-len(a)) + a#Añadimos los ceros a la izquierda necesarios para que tenga el numero de bits."
   ]
  },
  {
   "cell_type": "markdown",
   "metadata": {
    "id": "tY4yf6UzCjWd"
   },
   "source": [
    "## Inversión modular"
   ]
  },
  {
   "cell_type": "markdown",
   "metadata": {
    "id": "vXwjxCEUCmGA"
   },
   "source": [
    "Función que implementa a módulo inverso de N."
   ]
  },
  {
   "cell_type": "code",
   "execution_count": null,
   "metadata": {
    "id": "UsyH5KkZCjs0"
   },
   "outputs": [],
   "source": [
    "def m_inv(a, N):\n",
    "    '''Funcion que implementa a modulo inverso de N.'''\n",
    "    return pow(a, -1, N)"
   ]
  },
  {
   "cell_type": "markdown",
   "metadata": {
    "id": "E2ViNn0q9-1I"
   },
   "source": [
    "## Creador de N"
   ]
  },
  {
   "cell_type": "markdown",
   "metadata": {
    "id": "OAFCZF9b-QFB"
   },
   "source": [
    "Función que genera el número N a partir de dos números primos de entrada p y q. Además, busca el $a$ que queremos para realizar el algoritmo. Podemos indicarle cuales son los $a$ que hemos encontrado en anteriores llamadas. Tenemos que verificar que el mcd(a, N) es 1, ya que sino tenemos la solución (y un límite de iteraciones)."
   ]
  },
  {
   "cell_type": "code",
   "execution_count": null,
   "metadata": {
    "id": "RhnNKlFS99vz"
   },
   "outputs": [],
   "source": [
    "def primador(p, q, itmax = 100, used_a = []):\n",
    "    '''Funcion que implementa el crear un numero N a partir de 2 primos\n",
    "    y nos da un numero a valido para el algoritmo.\n",
    "    itmax es el numero de iteraciones permitidas para buscar este a.'''\n",
    "    N   = p * q\n",
    "    ver = True; itera = 0      #Comprueba que el maximo comun divisor de a y N sea 1.\n",
    "    while ver and itera<itmax:\n",
    "        a  = np.random.randint(2, N)#Entero aleatorio entre 2 y N.\n",
    "        cd = np.gcd(a, N)\n",
    "        if cd == 1 and (a not in used_a): ver = False\n",
    "        itera += 1#Contador de iteraciones.\n",
    "    if ver == True: print('No se ha encontrado un a valido.')\n",
    "    return a, N"
   ]
  },
  {
   "cell_type": "markdown",
   "metadata": {
    "id": "cbngTICp_DI_"
   },
   "source": [
    "Hacemos una prueba"
   ]
  },
  {
   "cell_type": "code",
   "execution_count": null,
   "metadata": {
    "colab": {
     "base_uri": "https://localhost:8080/"
    },
    "executionInfo": {
     "elapsed": 301,
     "status": "ok",
     "timestamp": 1721215001693,
     "user": {
      "displayName": "Alejandro Mata Ali",
      "userId": "15666806753439061254"
     },
     "user_tz": -120
    },
    "id": "9LGRZlSV_Mb_",
    "outputId": "02430f6f-25fa-4d97-fbd1-d7a81a2776da"
   },
   "outputs": [
    {
     "name": "stdout",
     "output_type": "stream",
     "text": [
      "a =  10 , N =  21\n"
     ]
    }
   ],
   "source": [
    "#Numeros primos para construir N.\n",
    "p = 3\n",
    "q = 7\n",
    "\n",
    "#-------------------------------------\n",
    "#Ejecutamos la funcion o los introducimos a mano.\n",
    "a, N = primador(p, q)\n",
    "print('a = ', a, ', N = ', N)\n",
    "#Determinamos el numero de qbits n para el algoritmo (y añadimos uno extra)\n",
    "n = 1 + int(np.floor(np.log2(N))); n +=1"
   ]
  },
  {
   "cell_type": "markdown",
   "metadata": {
    "id": "Sfu4vmcF-yHH"
   },
   "source": [
    "## Fracción irreducible"
   ]
  },
  {
   "cell_type": "markdown",
   "metadata": {
    "id": "kUV2JN_j-3dX"
   },
   "source": [
    "Esta función obtiene la fracción irreducible de un número. La entrada será la fracción num/dem, siendo num el numerador y dem el denominador."
   ]
  },
  {
   "cell_type": "code",
   "execution_count": null,
   "metadata": {
    "id": "hM9ZEOIl-207"
   },
   "outputs": [],
   "source": [
    "def reductor(num, den):\n",
    "    '''Esta función implementa la obtención de\n",
    "    la fraccion irreducible de un numero.\n",
    "    El número de entrada va a ser una fraccion num/den.\n",
    "    Ambos parametros son enteros.\n",
    "    Se basa en dividir entre todos los valores posibles.'''\n",
    "    for i in range(num, 0, -1):\n",
    "        if num % i == 0 and den % i == 0:\n",
    "            num /= i; den /= i\n",
    "    return int(num), int(den)"
   ]
  },
  {
   "cell_type": "markdown",
   "metadata": {
    "id": "L5d5pFsn_mde"
   },
   "source": [
    "## Procesador de la salida"
   ]
  },
  {
   "cell_type": "markdown",
   "metadata": {
    "id": "odTg30ZH_wRd"
   },
   "source": [
    "Obtenemos la lista de resultados del algoritmo con los números obtenidos con una frecuencia superior a 0, estos resultados serán $y$. Por tanto, haremos una entrada serán las count, con la que haremos una lista Valores cuyos elementos serán las key de counts, ordenadas de mayor a menor frecuencia.\n",
    "\n",
    "Obtenemos $r$ como el denominador de la fracción irreducible de $\\frac{y}{2^n}$ y aplicamos que $p = mcd(a^{r/2} - 1, N)$ y $q = mcd(a^{r/2} + 1, N)$ y comprobamos."
   ]
  },
  {
   "cell_type": "code",
   "execution_count": null,
   "metadata": {
    "id": "S9uhjYaR_dnM"
   },
   "outputs": [],
   "source": [
    "def procesador(counts, a, n, N):\n",
    "    #Guardamos las claves y las frecuencias\n",
    "    Keys = list(counts.keys())\n",
    "    Frecuencias = [ counts[key] for key in Keys]\n",
    "    #Ordenamos las claves segun su frecuencia\n",
    "    Keys, Frecuencias = zip(*sorted(zip(Keys, Frecuencias)))\n",
    "    #Convertimos las claves a entero\n",
    "    Valores = [int(_, 2) for _ in Keys]\n",
    "\n",
    "    for i in range(len(Valores)):#El 0 no contribuye.\n",
    "        if Valores[i] != 0:\n",
    "            r = reductor(Valores[i], 2**n)[0]#El denominador.\n",
    "            if r % 2 == 0:\n",
    "                if a**int(r/2) != -1 % N:\n",
    "                    p_obt = np.gcd(a**int(r/2) - 1, N);   q_obt = np.gcd(a**int(r/2) + 1, N)\n",
    "                    if N%p_obt == 0 and p_obt != N and p_obt != 1:#Si p es divisor\n",
    "                        print('\\nr = ', r, ', salida de cuentas: ', Valores[i], '. Puesto: ', i+1)\n",
    "                        print('Los primos son: ', p_obt, ', ', N//p_obt)\n",
    "                        return p_obt, N//p_obt\n",
    "                        break\n",
    "                    elif N%q_obt == 0 and q_obt != N and q_obt != 1:\n",
    "                        print('\\nr = ', r, ', salida de cuentas: ', Valores[i], '. Puesto: ', i+1)\n",
    "                        print('Los primos son: ', q_obt, ', ', N//q_obt)\n",
    "                        return q_obt, N//q_obt\n",
    "                        break\n",
    "\n",
    "    #Si no encontramos lo que debiamos\n",
    "    return 1, 1"
   ]
  }
 ],
 "metadata": {
  "colab": {
   "authorship_tag": "ABX9TyNL4vrpBfPPrlzRUHAD0UHx",
   "collapsed_sections": [
    "RKprNHvHoFnA",
    "mDx4rv_w7xiQ",
    "x_9b5p2ACVB-",
    "tY4yf6UzCjWd",
    "E2ViNn0q9-1I",
    "Sfu4vmcF-yHH",
    "L5d5pFsn_mde"
   ],
   "provenance": []
  },
  "kernelspec": {
   "display_name": "Python 3",
   "name": "python3"
  },
  "language_info": {
   "name": "python"
  }
 },
 "nbformat": 4,
 "nbformat_minor": 0
}
